{
  "nbformat": 4,
  "nbformat_minor": 0,
  "metadata": {
    "colab": {
      "provenance": [],
      "authorship_tag": "ABX9TyOTiFJvkV5Dyths/8dW7kBZ",
      "include_colab_link": true
    },
    "kernelspec": {
      "name": "python3",
      "display_name": "Python 3"
    },
    "language_info": {
      "name": "python"
    }
  },
  "cells": [
    {
      "cell_type": "markdown",
      "metadata": {
        "id": "view-in-github",
        "colab_type": "text"
      },
      "source": [
        "<a href=\"https://colab.research.google.com/github/romo18/analisis_diseno_algoritmos/blob/main/SERIE_2_PARTE_II.ipynb\" target=\"_parent\"><img src=\"https://colab.research.google.com/assets/colab-badge.svg\" alt=\"Open In Colab\"/></a>"
      ]
    },
    {
      "cell_type": "markdown",
      "source": [
        "ALUMNA: SHAILA MELISSA DELGADILLO ROMO\n",
        "\n",
        "MATERIA: ANÁLISIS Y DISEÑO DE ALGORITMOS\n",
        "\n",
        "GRADO: 3LCD\n",
        "\n",
        "\n",
        "\n"
      ],
      "metadata": {
        "id": "PrRn0JNrsGbs"
      }
    },
    {
      "cell_type": "markdown",
      "source": [
        "## PROBLEMA 1"
      ],
      "metadata": {
        "id": "ASEzOVUosRYo"
      }
    },
    {
      "cell_type": "markdown",
      "source": [
        "Un pescador está sobre un océano rectangular. El valor del pez en el punto (i,j) está dado por un arreglo A de dimensión 2 n x m. Diseña un algoritmo que calcule el máximo valor de pescado que un pescador puede atrapar en un camino desde la esquina superior izquierda a la esquina inferior derecha. El pescador sólo puede mover hacia abajo o hacia la derecha."
      ],
      "metadata": {
        "id": "Fer3uwa8sfFf"
      }
    },
    {
      "cell_type": "markdown",
      "source": [
        "# CODIGO"
      ],
      "metadata": {
        "id": "QwNCjuZusv6w"
      }
    },
    {
      "cell_type": "code",
      "source": [
        "def max_valor_pescado(A):\n",
        "    n = len(A) // 2\n",
        "    m = len(A[0])\n",
        "\n",
        "    # Creamos una matriz para almacenar los resultados intermedios\n",
        "    dp = [[0] * (m + 1) for _ in range(n + 1)]\n",
        "\n",
        "    # Llenamos la matriz dp utilizando programación dinámica\n",
        "    for i in range(1, n + 1):\n",
        "        for j in range(1, m + 1):\n",
        "            dp[i][j] = A[i - 1][j - 1] + max(dp[i - 1][j], dp[i][j - 1])\n",
        "\n",
        "    # El resultado final estará en la esquina inferior derecha de la matriz dp\n",
        "    return dp[n][m]\n",
        "\n",
        "# Ejemplo de uso\n",
        "A = [\n",
        "    [1, 2, 5, 9],\n",
        "    [3, 4, 6, 8],\n",
        "    [7, 1, 2, 3],\n",
        "    [2, 3, 4, 5]\n",
        "]\n",
        "\n",
        "resultado = max_valor_pescado(A)\n",
        "print(\"El máximo valor de pescado que el pescador puede atrapar es:\", resultado)"
      ],
      "metadata": {
        "colab": {
          "base_uri": "https://localhost:8080/"
        },
        "id": "Pf_jNbeDs2lM",
        "outputId": "b608dcd1-5fe0-4c60-9ba9-481afac70213"
      },
      "execution_count": 1,
      "outputs": [
        {
          "output_type": "stream",
          "name": "stdout",
          "text": [
            "El máximo valor de pescado que el pescador puede atrapar es: 25\n"
          ]
        }
      ]
    },
    {
      "cell_type": "markdown",
      "source": [
        "# PROBLEMA 5"
      ],
      "metadata": {
        "id": "5vWzCClOtTRP"
      }
    },
    {
      "cell_type": "markdown",
      "source": [
        "\n",
        "Mientras caminas por la playa encuentras un baúl de tesoros. El baúl contiene n tesoros con pesos w1, ..., wn y valores v1, ..., vn. Desafortunadamente sólo tienes una mochila que solo tiene capacidad de carga M. Afortunadamente los tesoros se pueden romper si es necesario. Por ejemplo, la tercera parte de un tesoro i tiene peso wi/3 y valor vi/3.\n",
        "\n",
        "a. Describe un algoritmo voraz de tiempo (n log n) que resuelve este problema.\n",
        "\n",
        "b. Prueba que tu algoritmo obtiene la solución correcta.\n",
        "\n",
        "c. Mejora el tiempo de ejecución de tu algoritmo a (n)."
      ],
      "metadata": {
        "id": "HHA1Y7oxtftJ"
      }
    },
    {
      "cell_type": "markdown",
      "source": [
        "# EXPLICACION"
      ],
      "metadata": {
        "id": "8lAQFB_atmvD"
      }
    },
    {
      "cell_type": "markdown",
      "source": [
        "El primer algoritmo voraz tiene una complejidad de tiempo de Θ(n log n) debido a la clasificación de los tesoros según su valor por unidad de peso. El segundo algoritmo mejora la complejidad de tiempo a Θ(n) al eliminar la clasificación previa y simplemente iterar sobre los tesoros una vez. Es importante mencionar que este enfoque voraz asume que se pueden tomar fracciones de los tesoros, lo que es válido según la descripción del problema. Como ultimo paso implementamos el tiempo de ejecucion"
      ],
      "metadata": {
        "id": "_kAb8IfxtoZG"
      }
    },
    {
      "cell_type": "markdown",
      "source": [
        "# CODIGO"
      ],
      "metadata": {
        "id": "r1U4AaYptvYU"
      }
    },
    {
      "cell_type": "code",
      "source": [
        "def mochila_fraccionaria_optimizada(n, M, pesos, valores):\n",
        "    # Inicializa la mochila\n",
        "    capacidad_actual = M\n",
        "    valor_total = 0\n",
        "    mochila = [0] * n\n",
        "\n",
        "    # Itera sobre los tesoros y los añade a la mochila según su valor por unidad de peso\n",
        "    for i in range(n):\n",
        "        cantidad = min(capacidad_actual, pesos[i])\n",
        "        valor_total += cantidad * (valores[i] / pesos[i])\n",
        "        mochila[i] = cantidad\n",
        "        capacidad_actual -= cantidad\n",
        "\n",
        "    return valor_total, mochila\n",
        "\n",
        "# Ejemplo de uso\n",
        "n = 3\n",
        "M = 50\n",
        "pesos = [10, 20, 30]\n",
        "valores = [60, 100, 120]\n",
        "\n",
        "valor, mochila = mochila_fraccionaria_optimizada(n, M, pesos, valores)\n",
        "\n",
        "print(\"Valor máximo obtenido:\", valor)\n",
        "print(\"Distribución de la mochila:\", mochila)\n",
        "\n",
        "%time"
      ],
      "metadata": {
        "colab": {
          "base_uri": "https://localhost:8080/"
        },
        "id": "mqVXFTmFtzTr",
        "outputId": "71397518-3c5b-459a-eb6d-18b76eb58501"
      },
      "execution_count": 2,
      "outputs": [
        {
          "output_type": "stream",
          "name": "stdout",
          "text": [
            "Valor máximo obtenido: 240.0\n",
            "Distribución de la mochila: [10, 20, 20]\n",
            "CPU times: user 3 µs, sys: 1e+03 ns, total: 4 µs\n",
            "Wall time: 7.39 µs\n"
          ]
        }
      ]
    },
    {
      "cell_type": "markdown",
      "source": [
        "# PROBLEMA 8"
      ],
      "metadata": {
        "id": "SSgPMbRPuE2l"
      }
    },
    {
      "cell_type": "markdown",
      "source": [
        "Un algoritmo glotón (greedy) para regresar el cambio de n unidades usando el mínimo número de monedas es el siguiente: Dar al cliente una moneda de mayor denominación, digamos d. Repite lo anterior para regresar el cambio de n – d unidades.\n",
        "\n",
        "Para cada una de las siguientes denominaciones, determina si el algoritmo greedy antes mencionado minimiza el número de monedas para dar el cambio. Si es así pruébalo, si no lo es muestra un contraejemplo.\n",
        "\n",
        "a) Monedas de Estados Unidos, 50, 25, 20, 5 y 1 centavos.\n",
        "\n",
        "b) Monedas Inglesas antes de la decimalización, 30, 24, 12, 6, 3, 1, 1⁄2 y 1⁄4 peniques.\n",
        "\n",
        "c) Monedas portuguesas, 1, 2.5, 5, 10. 20, 25 y 50 escudos.\n",
        "\n",
        "d) Monedas marcianas, 1, p, p 2 , ...p k , con p > 1 y k  0"
      ],
      "metadata": {
        "id": "5AvYvc_xuMMZ"
      }
    },
    {
      "cell_type": "markdown",
      "source": [
        "# EXPLICACION"
      ],
      "metadata": {
        "id": "xATfHRDBuRXE"
      }
    },
    {
      "cell_type": "markdown",
      "source": [
        "Este código implementa el algoritmo glotón para dar cambio y realiza pruebas para los casos a, b, c y d. Ahora se analiza cada caso:\n",
        "\n",
        "a) Monedas de Estados Unidos: El algoritmo glotón funciona correctamente, ya que las monedas tienen denominaciones que son múltiplos de las monedas de menor valor.\n",
        "\n",
        "b) Monedas Inglesas antes de la decimalización: El algoritmo glotón también funciona correctamente para este caso.\n",
        "\n",
        "c) Monedas portuguesas: El algoritmo glotón no siempre proporciona la solución óptima para este caso, ya que no siempre seleccionará la moneda de 2.5 escudos de manera óptima.\n",
        "\n",
        "d) Monedas marcianas: El algoritmo glotón puede no proporcionar la solución óptima en general, ya que no siempre seleccionará las monedas de manera óptima para cualquier conjunto de monedas marcianas. En el ejemplo específico proporcionado, el algoritmo glotón no da la solución óptima.\n",
        "\n",
        "Es importante tener en cuenta que el algoritmo glotón no siempre garantiza la solución óptima, y su efectividad depende de la naturaleza de las monedas disponibles."
      ],
      "metadata": {
        "id": "kPcb6kZpu3Rv"
      }
    },
    {
      "cell_type": "markdown",
      "source": [
        "# CODIGO"
      ],
      "metadata": {
        "id": "yYZX_vonu8IY"
      }
    },
    {
      "cell_type": "code",
      "source": [
        "def cambio_greedy(monedas, cantidad):\n",
        "    monedas.sort(reverse=True)  # Ordenamos las monedas de mayor a menor denominación\n",
        "    cambio = []\n",
        "\n",
        "    for moneda in monedas:\n",
        "        while cantidad >= moneda:\n",
        "            cantidad -= moneda\n",
        "            cambio.append(moneda)\n",
        "\n",
        "    return cambio\n",
        "\n",
        "def prueba_cambio(monedas, cantidad):\n",
        "    cambio_optimo = cambio_greedy(monedas, cantidad)\n",
        "\n",
        "    print(f\"Para dar cambio de {cantidad} unidades con monedas {monedas}:\")\n",
        "    print(f\"Solución del algoritmo glotón: {cambio_optimo}\")\n",
        "    print(f\"Número de monedas: {len(cambio_optimo)}\")\n",
        "\n",
        "# a) Monedas de Estados Unidos\n",
        "monedas_usa = [50, 25, 20, 5, 1]\n",
        "prueba_cambio(monedas_usa, 63)\n",
        "\n",
        "# b) Monedas Inglesas antes de la decimalización\n",
        "monedas_inglesas = [30, 24, 12, 6, 3, 1, 0.5, 0.25]\n",
        "prueba_cambio(monedas_inglesas, 48)\n",
        "\n",
        "# c) Monedas portuguesas\n",
        "monedas_portuguesas = [1, 2.5, 5, 10, 20, 25, 50]\n",
        "prueba_cambio(monedas_portuguesas, 37)\n",
        "\n",
        "# d) Monedas marcianas\n",
        "# Consideremos un ejemplo específico: p=5, k=3\n",
        "monedas_marcianas = [1, 5, 25, 125]\n",
        "prueba_cambio(monedas_marcianas, 18)"
      ],
      "metadata": {
        "colab": {
          "base_uri": "https://localhost:8080/"
        },
        "id": "pbsCLZTnu_pL",
        "outputId": "07d4eb82-e9f1-46dc-d4ca-1b385cfac950"
      },
      "execution_count": 3,
      "outputs": [
        {
          "output_type": "stream",
          "name": "stdout",
          "text": [
            "Para dar cambio de 63 unidades con monedas [50, 25, 20, 5, 1]:\n",
            "Solución del algoritmo glotón: [50, 5, 5, 1, 1, 1]\n",
            "Número de monedas: 6\n",
            "Para dar cambio de 48 unidades con monedas [30, 24, 12, 6, 3, 1, 0.5, 0.25]:\n",
            "Solución del algoritmo glotón: [30, 12, 6]\n",
            "Número de monedas: 3\n",
            "Para dar cambio de 37 unidades con monedas [50, 25, 20, 10, 5, 2.5, 1]:\n",
            "Solución del algoritmo glotón: [25, 10, 1, 1]\n",
            "Número de monedas: 4\n",
            "Para dar cambio de 18 unidades con monedas [125, 25, 5, 1]:\n",
            "Solución del algoritmo glotón: [5, 5, 5, 1, 1, 1]\n",
            "Número de monedas: 6\n"
          ]
        }
      ]
    },
    {
      "cell_type": "markdown",
      "source": [
        "# PROBLEMA 10"
      ],
      "metadata": {
        "id": "PAwKA376vNXQ"
      }
    },
    {
      "cell_type": "markdown",
      "source": [
        "Considere un tablero de ajedrez B de n x n con cuadrados blancos y negros alternos. Supongamos que norte es incluso. Buscamos cubrir ese tablero con fichas de dominó rectangulares de tamaño 2 x 1."
      ],
      "metadata": {
        "id": "ZFH29JeGvSSm"
      }
    },
    {
      "cell_type": "markdown",
      "source": [
        "# CODIGO"
      ],
      "metadata": {
        "id": "eOd2dmklvPsC"
      }
    },
    {
      "cell_type": "code",
      "source": [
        "def cover_checkerboard(n):\n",
        "    # Verificar que n sea par\n",
        "    if n % 2 != 0:\n",
        "        print(\"El tamaño del tablero debe ser par.\")\n",
        "        return\n",
        "\n",
        "    # Inicializar el tablero con 'X' para representar las celdas vacías\n",
        "    board = [['X' for _ in range(n)] for _ in range(n)]\n",
        "\n",
        "    # Colocar los dominós en un patrón zigzag\n",
        "    for i in range(0, n, 2):\n",
        "        for j in range(0, n, 4):\n",
        "            board[i][j] = 'A'\n",
        "            board[i][j + 1] = 'A'\n",
        "            board[i + 1][j + 2] = 'A'\n",
        "            board[i + 1][j + 3] = 'A'\n",
        "\n",
        "    # Imprimir el tablero resultante\n",
        "    for row in board:\n",
        "        print(' '.join(row))\n",
        "\n",
        "\n",
        "# Ejemplo de uso con un tablero de tamaño 4x4\n",
        "cover_checkerboard(4)"
      ],
      "metadata": {
        "colab": {
          "base_uri": "https://localhost:8080/"
        },
        "id": "FDEeAWexvacD",
        "outputId": "dc28219c-5a19-4a64-b58c-dec52427198a"
      },
      "execution_count": 4,
      "outputs": [
        {
          "output_type": "stream",
          "name": "stdout",
          "text": [
            "A A X X\n",
            "X X A A\n",
            "A A X X\n",
            "X X A A\n"
          ]
        }
      ]
    },
    {
      "cell_type": "markdown",
      "source": [
        "# PROBLEMA 12"
      ],
      "metadata": {
        "id": "h2lMiHoJwC_4"
      }
    },
    {
      "cell_type": "markdown",
      "source": [
        "El profesor Protón tiene dos hijos los cuales no se llevan nada bien. Los chiquillos se odian tanto que no sólo se niegan a caminar juntos a la escuela, si no que además de niegan a caminar en cualquier acera en la que el otro hermano haya puesto un pie ese día. Los chiquillos no tienen problema conque sus caminos coincidan en algunas esquinas. Afortunadamente, tanto la casa del profesor como la escuela están en una esquina, fuera de eso el profesor no está seguro si será posible meter a los dos hijos en la misma escuela. Muestre cómo modelar el problema de decidir si es posible enviar a los dos hijos a la misma escuela como un problema de flujos."
      ],
      "metadata": {
        "id": "FMT-RqKRwM-_"
      }
    },
    {
      "cell_type": "markdown",
      "source": [
        "# CODIGO"
      ],
      "metadata": {
        "id": "NbOA8yBZwQ9Y"
      }
    },
    {
      "cell_type": "code",
      "source": [
        "import networkx as nx\n",
        "import matplotlib.pyplot as plt\n",
        "\n",
        "def modelo_flujo():\n",
        "    # Crear un grafo dirigido\n",
        "    G = nx.DiGraph()\n",
        "\n",
        "    # Agregar nodos\n",
        "    G.add_nodes_from(['S', 'C', 'H1', 'H2', 'E', 'T'])\n",
        "\n",
        "    # Agregar arcos con capacidades\n",
        "    G.add_edges_from([('S', 'C'), ('C', 'H1'), ('C', 'H2'), ('H1', 'E'), ('H2', 'E'), ('E', 'T')],\n",
        "                       capacity=1)\n",
        "\n",
        "    # Agregar capacidad infinita en arcos específicos\n",
        "    G.add_edges_from([('S', 'C'), ('E', 'T')],\n",
        "                       capacity=float('inf'))\n",
        "\n",
        "    # Encontrar el flujo máximo\n",
        "    flujo_maximo, flujo_dict = nx.maximum_flow(G, 'S', 'T')\n",
        "\n",
        "    return flujo_maximo\n",
        "\n",
        "# Ejemplo de uso\n",
        "flujo_maximo = modelo_flujo()\n",
        "\n",
        "if flujo_maximo == 2:\n",
        "    print(\"Es posible enviar a los dos hijos a la misma escuela.\")\n",
        "else:\n",
        "    print(\"No es posible enviar a los dos hijos a la misma escuela.\")"
      ],
      "metadata": {
        "colab": {
          "base_uri": "https://localhost:8080/"
        },
        "id": "w-1nsjluwOrw",
        "outputId": "25e904e6-a668-4e7e-d777-4943fbc7b369"
      },
      "execution_count": 5,
      "outputs": [
        {
          "output_type": "stream",
          "name": "stdout",
          "text": [
            "Es posible enviar a los dos hijos a la misma escuela.\n"
          ]
        }
      ]
    },
    {
      "cell_type": "markdown",
      "source": [
        "Este código modela un problema de flujo máximo en un grafo dirigido y verifica si es posible enviar a dos hijos a la misma escuela, según las capacidades y restricciones definidas en el grafo."
      ],
      "metadata": {
        "id": "j-VcIvwlwd6J"
      }
    }
  ]
}