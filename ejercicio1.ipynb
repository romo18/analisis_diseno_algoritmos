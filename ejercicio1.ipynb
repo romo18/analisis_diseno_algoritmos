{
  "nbformat": 4,
  "nbformat_minor": 0,
  "metadata": {
    "colab": {
      "provenance": [],
      "authorship_tag": "ABX9TyNkvLVEFrv9GUSkyr1IZecp",
      "include_colab_link": true
    },
    "kernelspec": {
      "name": "python3",
      "display_name": "Python 3"
    },
    "language_info": {
      "name": "python"
    }
  },
  "cells": [
    {
      "cell_type": "markdown",
      "metadata": {
        "id": "view-in-github",
        "colab_type": "text"
      },
      "source": [
        "<a href=\"https://colab.research.google.com/github/romo18/analisis_diseno_algoritmos/blob/main/ejercicio1.ipynb\" target=\"_parent\"><img src=\"https://colab.research.google.com/assets/colab-badge.svg\" alt=\"Open In Colab\"/></a>"
      ]
    },
    {
      "cell_type": "markdown",
      "source": [
        "Shaila Melissa Delgadillo Romo\n",
        "\n",
        "Analisis y Diseño de Algoritmos\n",
        "\n",
        "16/09/2023"
      ],
      "metadata": {
        "id": "PFU8QqFyGTdb"
      }
    },
    {
      "cell_type": "markdown",
      "source": [
        "# ejercio 1"
      ],
      "metadata": {
        "id": "YFLF3CdaFtfH"
      }
    },
    {
      "cell_type": "code",
      "source": [
        "# scopes3.py\n",
        "# Local, Enclosing and Global\n",
        "def enclosing_func():\n",
        "  m = 13\n",
        "  def local():\n",
        "    # m no pertenece al alcance definido por el local\n",
        "    # funcion para que python siga investigando el siguiente\n",
        "    # alcance adjunto. Esta vez m se encuentra en el recinto\n",
        "    # alcance\n",
        "      print(m, 'impresión desde el ámbito local')\n",
        "    # calling the function local\n",
        "  local()\n",
        "m = 5\n",
        "print(m, 'impresión desde el ámbito global')\n",
        "enclosing_func()"
      ],
      "metadata": {
        "colab": {
          "base_uri": "https://localhost:8080/"
        },
        "id": "FIX7IaASF6R7",
        "outputId": "ed3a5369-5896-43df-a02d-16d18467b18c"
      },
      "execution_count": 1,
      "outputs": [
        {
          "output_type": "stream",
          "name": "stdout",
          "text": [
            "5 impresión desde el ámbito global\n",
            "13 impresión desde el ámbito local\n"
          ]
        }
      ]
    }
  ]
}