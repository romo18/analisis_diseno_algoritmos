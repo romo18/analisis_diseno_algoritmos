{
  "nbformat": 4,
  "nbformat_minor": 0,
  "metadata": {
    "colab": {
      "provenance": [],
      "authorship_tag": "ABX9TyMrJIKAZy+c3Rdh9udLmMEu",
      "include_colab_link": true
    },
    "kernelspec": {
      "name": "python3",
      "display_name": "Python 3"
    },
    "language_info": {
      "name": "python"
    }
  },
  "cells": [
    {
      "cell_type": "markdown",
      "metadata": {
        "id": "view-in-github",
        "colab_type": "text"
      },
      "source": [
        "<a href=\"https://colab.research.google.com/github/romo18/analisis_diseno_algoritmos/blob/main/EJERCICIOS_DE_EXAMEN.ipynb\" target=\"_parent\"><img src=\"https://colab.research.google.com/assets/colab-badge.svg\" alt=\"Open In Colab\"/></a>"
      ]
    },
    {
      "cell_type": "markdown",
      "source": [
        "# Unidad 3\n",
        "\n",
        "Fatima Del Carmen Adame Quintero\n",
        "\n",
        "Shaila Melissa Delgadillo Romo\n",
        "\n",
        "Materia: Análisis y Diseño de Algoritmos"
      ],
      "metadata": {
        "id": "V3HPftQJmQuN"
      }
    },
    {
      "cell_type": "markdown",
      "source": [
        "# EJERCICIO 1"
      ],
      "metadata": {
        "id": "wnYaqWcomave"
      }
    },
    {
      "cell_type": "code",
      "source": [
        "class ColaAmortizada:\n",
        "    def __init__(self):\n",
        "        self.items = []\n",
        "\n",
        "    def enqueue(self, item):\n",
        "        self.items.append(item) # Complejidad O(1)\n",
        "\n",
        "    def dequeue(self):\n",
        "        if not self.items:\n",
        "            return None\n",
        "        return self.items.pop(0) #Complejidad O(n) y O(1)"
      ],
      "metadata": {
        "id": "3T0TTSuJmwXe"
      },
      "execution_count": 1,
      "outputs": []
    },
    {
      "cell_type": "markdown",
      "source": [
        "# Actividad de reingeniería:\n",
        "\n",
        "\n",
        "Realiza el análisis de complejidad de tiempo y espacio\n",
        "\n",
        "Justifica que sirve y es funcional\n",
        "\n",
        "- El código implementa los métodos básicos de una cola (**enqueue y dequeue**) utilizando una lista en Python. Sin embargo, es importante tener en cuenta que la operación de dequeue() podría ser costosa en términos de tiempo si la cola contiene una gran cantidad de elementos, debido a la complejidad de tiempo O(n) para eliminar el primer elemento y desplazar los elementos restantes en la lista.\n",
        "\n",
        "Establece los pasos del algoritmo\n",
        " Inicializacion\n",
        "\n",
        "# 1. INCIALIZACIÓN\n",
        "- Se crea una clase de (**'ColaAmortizada'**).\n",
        "- La lista (**'self.item'**) se inicializa como lista vacía en el método de '__init__'\n",
        "\n",
        "\n",
        "# 2. Enqueue(self, item):\n",
        "\n",
        "- En este metodose agrega un elemento de (**'item'**) al final de la cola.\n",
        "- De igual forma se utiliza el metodo (**'append'**) de la lista (**'self.items'**)para agregar el elemento al final de la cola.\n",
        "\n",
        "# 3. Dequeue(self):\n",
        "- Se verificara si la cola esta vacia en la funcion de  (**'if not self.items**').\n",
        "- Si se llega a optener que este vacia se hara lo siguiente:\n",
        "- Se devolvera un ( **'None'** ) que indicara que la cola esta vacia y no se puede extraer ningun elemento.\n",
        "\n",
        "- Si la cola no llega estar vacia se hara lo siguiente:\n",
        "- Se utilizara el metodo de la funcion ( **'pop(0)'**) de la lista (**'self.items'**) para eliminar y devolver el primer elemento de la cola.\n"
      ],
      "metadata": {
        "id": "LwsRqKEzmw77"
      }
    },
    {
      "cell_type": "markdown",
      "source": [
        "EJEMPLO DE ENTRADAS Y SALIDAS"
      ],
      "metadata": {
        "id": "JDMdiVxGnDWQ"
      }
    },
    {
      "cell_type": "code",
      "source": [
        "class ColaAmortizada:\n",
        "    def __init__(self):\n",
        "        self.items = []\n",
        "\n",
        "    def enqueue(self, item):\n",
        "        self.items.append(item)\n",
        "\n",
        "    def dequeue(self):\n",
        "        if not self.items:\n",
        "            return None\n",
        "        return self.items.pop(0)\n",
        "\n",
        "# Crear una instancia de la cola\n",
        "cola = ColaAmortizada()\n",
        "\n",
        "# Agregar elementos a la cola\n",
        "cola.enqueue(10)\n",
        "cola.enqueue(20)\n",
        "cola.enqueue(30)\n",
        "\n",
        "# Mostrar la cola después de agregar elementos\n",
        "print(\"Cola después de agregar elementos:\")\n",
        "print(cola.items)  # Salida: [10, 20, 30]\n",
        "\n",
        "# Eliminar elementos de la cola y mostrarlos\n",
        "elemento_eliminado = cola.dequeue()\n",
        "print(\"Elemento eliminado de la cola:\", elemento_eliminado)  # Salida: 10\n",
        "\n",
        "# Mostrar la cola después de eliminar un elemento\n",
        "print(\"Cola después de eliminar un elemento:\")\n",
        "print(cola.items)  # Salida: [20, 30]\n",
        "\n",
        "%time"
      ],
      "metadata": {
        "id": "Ipny1hSLnGwz"
      },
      "execution_count": null,
      "outputs": []
    },
    {
      "cell_type": "markdown",
      "source": [
        "# EXPLICACION\n",
        "El código implementa una cola simple usando una lista en Python, permitiendo agregar elementos al final de la cola y eliminar elementos desde el frente siguiendo el principio FIFO. Las impresiones y mediciones de tiempo al final del código están destinadas a mostrar el estado de la cola y medir el tiempo de ejecución, respectivamente."
      ],
      "metadata": {
        "id": "YiaiPz5DnHOO"
      }
    },
    {
      "cell_type": "markdown",
      "source": [
        "EJERCICIO 3"
      ],
      "metadata": {
        "id": "wsmrOryGnXVt"
      }
    },
    {
      "cell_type": "code",
      "source": [
        "class Nodo:\n",
        "    def __init__(self, valor):\n",
        "        self.valor = valor\n",
        "        self.siguiente = None\n",
        "        self.potencial = 0  # Potencial asociado al nodo\n",
        "\n",
        "class ListaVinculada:\n",
        "    def __init__(self):\n",
        "        self.cabeza = None\n",
        "\n",
        "    def insertar(self, valor): #O(1)\n",
        "        nuevo_nodo = Nodo(valor)#O(1)\n",
        "        nuevo_nodo.siguiente = self.cabeza#O(1)\n",
        "        self.cabeza = nuevo_nodo\n",
        "\n",
        "        # Ajustar el potencial después de la inserción\n",
        "        self.ajustar_potencial()\n",
        "\n",
        "    def ajustar_potencial(self): #O(n)\n",
        "        # Lógica para ajustar el potencial, puede variar según el escenario\n",
        "        pass"
      ],
      "metadata": {
        "id": "szgXQeL_naX4"
      },
      "execution_count": null,
      "outputs": []
    },
    {
      "cell_type": "markdown",
      "source": [
        "Actividad de reingeniería:*\n",
        "\n",
        "Realiza el análisis de complejidad de tiempo y espacio\n",
        "\n",
        "Justifica que sirve y es funcional\n",
        "\n",
        "- El código puede ser funcional para las operaciones básicas de una lista vinculada, su utilidad real dependerá de cómo se complete la lógica de los métodos restantes, como (ajustar_potencial()) y otras operaciones necesarias para trabajar con la lista vinculada de manera completa y eficiente.\n",
        "\n",
        "Establece los pasos del algoritmo\n",
        "\n",
        "1. En la funcion de init(Self,Valor) se inicializa con un NODO dandole un valor\n",
        "dado y un enlace al siguiente nodo que por defecto es None.\n",
        "\n",
        "2. Se inicializa la lista vinculada con la cabeza (primer nodo) como None.\n",
        "\n",
        "3. Crea un nuevo nodo con el valor dado.\n",
        "\n",
        "4. Asigna el nodo actual como el siguiente nodo del nuevo nodo.\n",
        "\n",
        "5. Establece el nuevo nodo como la nueva cabeza de la lista.\n",
        "\n",
        "6. Se establece el método que puede variar según el escenario y la lógica específica asociada a la gestión de potenciales de los nodos. Sin embargo, en el código proporcionado, este método no tiene implementación (pass), por lo que no realiza ninguna acción."
      ],
      "metadata": {
        "id": "BGzy2_T6na05"
      }
    },
    {
      "cell_type": "markdown",
      "source": [
        "# EJEMPLO DE ENTRADAS Y SALIDAS"
      ],
      "metadata": {
        "id": "hrK5yFcYoXTM"
      }
    },
    {
      "cell_type": "code",
      "source": [
        "class Nodo:\n",
        "    def __init__(self, valor):\n",
        "        self.valor = valor\n",
        "        self.siguiente = None\n",
        "\n",
        "class ListaVinculada:\n",
        "    def __init__(self):\n",
        "        self.cabeza = None\n",
        "\n",
        "    def insertar(self, valor):\n",
        "        nuevo_nodo = Nodo(valor)\n",
        "        nuevo_nodo.siguiente = self.cabeza\n",
        "        self.cabeza = nuevo_nodo\n",
        "\n",
        "    def imprimir(self):\n",
        "        actual = self.cabeza\n",
        "        while actual:\n",
        "            print(actual.valor, end=\" \")\n",
        "            actual = actual.siguiente\n",
        "        print()\n",
        "\n",
        "# Crear una instancia de la lista vinculada\n",
        "lista = ListaVinculada()\n",
        "\n",
        "# Insertar elementos en la lista vinculada\n",
        "lista.insertar(10)\n",
        "lista.insertar(20)\n",
        "lista.insertar(30)\n",
        "\n",
        "# Imprimir los elementos de la lista vinculada\n",
        "print(\"Elementos de la lista vinculada:\")\n",
        "lista.imprimir()\n",
        "\n",
        "%time"
      ],
      "metadata": {
        "colab": {
          "base_uri": "https://localhost:8080/"
        },
        "id": "IDKh1cuiobeA",
        "outputId": "7f704915-477a-4ef6-8e52-593fc44f7cb6"
      },
      "execution_count": 2,
      "outputs": [
        {
          "output_type": "stream",
          "name": "stdout",
          "text": [
            "Elementos de la lista vinculada:\n",
            "30 20 10 \n",
            "CPU times: user 4 µs, sys: 1 µs, total: 5 µs\n",
            "Wall time: 7.87 µs\n"
          ]
        }
      ]
    },
    {
      "cell_type": "markdown",
      "source": [
        "#EXPLICACION\n",
        "Este código demuestra la implementación de una lista vinculada en Python y muestra cómo agregar elementos al principio de la lista vinculada y luego imprimir los elementos en el orden en el que están organizados en la lista."
      ],
      "metadata": {
        "id": "-4N091c3ocog"
      }
    },
    {
      "cell_type": "markdown",
      "source": [
        "# EJERCICIO 6"
      ],
      "metadata": {
        "id": "YEWbpX4DorN2"
      }
    },
    {
      "cell_type": "code",
      "source": [
        "import random\n",
        "\n",
        "def estimar_pi(num_dardos):\n",
        "    dentro_circulo = 0\n",
        "\n",
        "    for _ in range(num_dardos): # complejidad O(num_dardos)\n",
        "        x, y = random.uniform(-1, 1), random.uniform(-1, 1)\n",
        "        distancia = x**2 + y**2\n",
        "\n",
        "        if distancia <= 1:\n",
        "            dentro_circulo += 1\n",
        "\n",
        "    return (dentro_circulo / num_dardos) * 4 # Complejidad O(1)\n",
        "\n",
        "# Ejemplo de uso\n",
        "num_dardos = 100000\n",
        "resultado = estimar_pi(num_dardos)\n",
        "print(f\"Estimación de π con {num_dardos} dardos: {resultado}\")\n",
        "%time"
      ],
      "metadata": {
        "colab": {
          "base_uri": "https://localhost:8080/"
        },
        "id": "85bslSuhovsM",
        "outputId": "c860b8ea-bab9-4aaa-f6cd-94e4534ba20f"
      },
      "execution_count": 3,
      "outputs": [
        {
          "output_type": "stream",
          "name": "stdout",
          "text": [
            "Estimación de π con 100000 dardos: 3.1344\n",
            "CPU times: user 4 µs, sys: 0 ns, total: 4 µs\n",
            "Wall time: 6.91 µs\n"
          ]
        }
      ]
    },
    {
      "cell_type": "markdown",
      "source": [
        "Actividad de reingeniería:*\n",
        "\n",
        "Realiza el análisis de complejidad de tiempo y espacio\n",
        "\n",
        "Justifica que sirve y es funcional\n",
        "\n",
        "- Este código es funcional ya que implementa correctamente el método de Monte Carlo para estimar π. Sin embargo, la precisión de la estimación puede variar según el número de dardos lanzados (num_dardos). En general, cuanto mayor sea num_dardos, mayor será la precisión de la estimación de π.\n",
        "\n",
        "Establece los pasos del algoritmo\n",
        "\n",
        "1. Se define la función estimar_pi(num_dardos) que toma como parámetro el número de dardos a lanzar.\n",
        "\n",
        "2. Se inicializa la variable dentro_circulo en cero, que llevará la cuenta de cuántos dardos caen dentro del círculo unitario.\n",
        "\n",
        "3. Se utiliza un bucle for para lanzar num_dardos dardos en un cuadrado con lados de longitud 2 y centrado en el origen.\n",
        "\n",
        "4. En cada iteración del bucle, se generan dos números aleatorios x e y en el rango de -1 a 1 utilizando random.uniform(-1, 1). Estos números representan las coordenadas (x, y) donde cae cada dardo lanzado.\n",
        "\n",
        "5. Para cada dardo lanzado, se calcula la distancia al cuadrado desde el origen hasta el punto (x, y) utilizando la fórmula de distancia euclidiana al cuadrado: distancia = x ** 2 + y ** 2.\n",
        "\n",
        "6. Se comprueba si el punto (x, y) está dentro del círculo unitario. Si la distancia al cuadrado es menor o igual a 1, significa que el punto está dentro del círculo.\n",
        "\n",
        "7. Se incrementa la variable dentro_circulo cada vez que un dardo cae dentro del círculo, es decir, cuando la distancia al cuadrado es menor o igual a 1.\n",
        "\n",
        "8. Después de lanzar todos los dardos, se utiliza la fórmula (dentro_circulo / num_dardos) * 4 para estimar el valor de π.\n",
        "\n",
        "9. Esto se realiza dividiendo la cantidad de dardos que cayeron dentro del círculo (dentro_circulo) entre el número total de dardos lanzados (num_dardos) y multiplicando por 4, ya que la relación entre el área de un círculo y un cuadrado circunscrito es π/4.\n",
        "\n",
        "10. La función retorna la estimación de π basada en la proporción de dardos que cayeron dentro del círculo."
      ],
      "metadata": {
        "id": "-V9nOlSeo36P"
      }
    },
    {
      "cell_type": "markdown",
      "source": [
        "# EJEMPLO DE ENTRADAS Y SALIDAS"
      ],
      "metadata": {
        "id": "6H-Vbkmspe1V"
      }
    },
    {
      "cell_type": "code",
      "source": [
        "import random\n",
        "\n",
        "def estimar_pi(num_dardos):\n",
        "    dentro_circulo = 0\n",
        "\n",
        "    for _ in range(num_dardos):\n",
        "        x, y = random.uniform(-1, 1), random.uniform(-1, 1)\n",
        "        distancia = x**2 + y**2\n",
        "\n",
        "        if distancia <= 1:\n",
        "            dentro_circulo += 1\n",
        "\n",
        "    return (dentro_circulo / num_dardos) * 4\n",
        "\n",
        "# Ejemplo de uso con pocos dardos para demostración\n",
        "num_dardos = 10000000\n",
        "resultado = estimar_pi(num_dardos)\n",
        "print(f\"Estimación de π con {num_dardos} dardos: {resultado}\")\n",
        "%time"
      ],
      "metadata": {
        "colab": {
          "base_uri": "https://localhost:8080/"
        },
        "id": "-nJ9bW3epiuY",
        "outputId": "c1f81c78-b3af-46aa-8be0-b63da38e3834"
      },
      "execution_count": 4,
      "outputs": [
        {
          "output_type": "stream",
          "name": "stdout",
          "text": [
            "Estimación de π con 10000000 dardos: 3.141094\n",
            "CPU times: user 3 µs, sys: 0 ns, total: 3 µs\n",
            "Wall time: 5.25 µs\n"
          ]
        }
      ]
    },
    {
      "cell_type": "markdown",
      "source": [
        "# EXPLICACION\n",
        "En este ejemplo, se utilizan solo 10000000 dardos para estimar el valor de π. El resultado impreso mostrará una estimación de π basada en la proporción de dardos que caen dentro del círculo unitario.\n",
        "\n",
        "Es importante tener en cuenta que, debido a la naturaleza aleatoria del método de Monte Carlo, el valor de π estimado variará cada vez que se ejecute el código. A medida que se incrementa el número de dardos (num_dardos), la precisión de la estimación debería acercarse más al valor real de π."
      ],
      "metadata": {
        "id": "ctagXwiuptix"
      }
    }
  ]
}