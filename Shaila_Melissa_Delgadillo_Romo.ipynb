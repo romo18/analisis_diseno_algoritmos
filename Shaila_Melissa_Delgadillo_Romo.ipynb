{
  "nbformat": 4,
  "nbformat_minor": 0,
  "metadata": {
    "colab": {
      "provenance": [],
      "authorship_tag": "ABX9TyOdkxV+J28+66Bw3LDi5bRp",
      "include_colab_link": true
    },
    "kernelspec": {
      "name": "python3",
      "display_name": "Python 3"
    },
    "language_info": {
      "name": "python"
    }
  },
  "cells": [
    {
      "cell_type": "markdown",
      "metadata": {
        "id": "view-in-github",
        "colab_type": "text"
      },
      "source": [
        "<a href=\"https://colab.research.google.com/github/romo18/analisis_diseno_algoritmos/blob/main/Shaila_Melissa_Delgadillo_Romo.ipynb\" target=\"_parent\"><img src=\"https://colab.research.google.com/assets/colab-badge.svg\" alt=\"Open In Colab\"/></a>"
      ]
    },
    {
      "cell_type": "markdown",
      "source": [
        "ALUMNA: SHAILA MELISSA DELGADILLO ROMO\n",
        "\n",
        "MATERIA: ANÁLISIS Y DISEÑO DE ALGORITMOS\n",
        "\n",
        "GRADO: 3LCD"
      ],
      "metadata": {
        "id": "rtQRLHjIQaVE"
      }
    },
    {
      "cell_type": "markdown",
      "source": [
        "#PROBLEMA 2"
      ],
      "metadata": {
        "id": "kvDo0Fo_Qsg7"
      }
    },
    {
      "cell_type": "markdown",
      "source": [
        "CÓDIGO"
      ],
      "metadata": {
        "id": "tJsL94AqQwRi"
      }
    },
    {
      "cell_type": "code",
      "execution_count": 1,
      "metadata": {
        "colab": {
          "base_uri": "https://localhost:8080/"
        },
        "id": "ZHLsIVJYQSVJ",
        "outputId": "ec308d48-2592-4c06-a690-97bde065e51f"
      },
      "outputs": [
        {
          "output_type": "stream",
          "name": "stdout",
          "text": [
            "Permutación ordenada: [1, 2, 3, 4, 5, 6]\n",
            "Número de inversiones: 3\n",
            "CPU times: user 2 µs, sys: 1e+03 ns, total: 3 µs\n",
            "Wall time: 4.77 µs\n"
          ]
        }
      ],
      "source": [
        "def contar_inversiones(arr):\n",
        "    if len(arr) <= 1:\n",
        "        return arr, 0\n",
        "\n",
        "    mitad = len(arr) // 2\n",
        "    izquierda, inversiones_izquierda = contar_inversiones(arr[:mitad])\n",
        "    derecha, inversiones_derecha = contar_inversiones(arr[mitad:])\n",
        "    fusion, inversiones_fusion = merge(izquierda, derecha)\n",
        "\n",
        "    inversiones_totales = inversiones_izquierda + inversiones_derecha + inversiones_fusion\n",
        "\n",
        "    return fusion, inversiones_totales\n",
        "\n",
        "def merge(izquierda, derecha):\n",
        "    i = j = inversiones = 0\n",
        "    fusion = []\n",
        "\n",
        "    while i < len(izquierda) and j < len(derecha):\n",
        "        if izquierda[i] <= derecha[j]:\n",
        "            fusion.append(izquierda[i])\n",
        "            i += 1\n",
        "        else:\n",
        "            fusion.append(derecha[j])\n",
        "            inversiones += len(izquierda) - i\n",
        "            j += 1\n",
        "\n",
        "    fusion.extend(izquierda[i:])\n",
        "    fusion.extend(derecha[j:])\n",
        "\n",
        "    return fusion, inversiones\n",
        "\n",
        "# Ejemplo de uso:\n",
        "#arr = [2, 3, 8, 6, 1]\n",
        "arr = [1, 3, 5, 2, 4, 6]\n",
        "resultado, inversiones = contar_inversiones(arr)\n",
        "print(\"Permutación ordenada:\", resultado)\n",
        "print(\"Número de inversiones:\", inversiones)\n",
        "\n",
        "%time"
      ]
    },
    {
      "cell_type": "markdown",
      "source": [
        "#PROBLEMA 4"
      ],
      "metadata": {
        "id": "nhSXoqGlRtZL"
      }
    },
    {
      "cell_type": "markdown",
      "source": [
        "CÓDIGO"
      ],
      "metadata": {
        "id": "zvyPvpSQRzu7"
      }
    },
    {
      "cell_type": "code",
      "source": [
        "import heapq\n",
        "\n",
        "def merge_k_sorted_lists(lists):\n",
        "    result = []\n",
        "    heap = []\n",
        "\n",
        "    # Inicializar el heap con el primer elemento de cada lista junto con su índice y valor.\n",
        "    for i, lst in enumerate(lists):\n",
        "        if lst:\n",
        "            heapq.heappush(heap, (lst[0], i, 0))\n",
        "\n",
        "    while heap:\n",
        "        val, list_index, element_index = heapq.heappop(heap)\n",
        "\n",
        "        # Agregar el valor al resultado final.\n",
        "        result.append(val)\n",
        "\n",
        "        # Mover al siguiente elemento de la lista actual si hay más elementos.\n",
        "        if element_index + 1 < len(lists[list_index]):\n",
        "            next_element = lists[list_index][element_index + 1]\n",
        "            heapq.heappush(heap, (next_element, list_index, element_index + 1))\n",
        "\n",
        "    return result\n",
        "\n",
        "# Ejemplo de uso:\n",
        "list1 = [34, 147, 718]\n",
        "list2 = [2, 5, 8]\n",
        "list3 = [3, 6, 9]\n",
        "\n",
        "result = merge_k_sorted_lists([list1, [2, 5, 8], [3, 6, 9]])\n",
        "print(\"Lista ordenada de los elementos:\", result)\n",
        "\n",
        "%time"
      ],
      "metadata": {
        "colab": {
          "base_uri": "https://localhost:8080/"
        },
        "id": "EBl3TUDRR1is",
        "outputId": "e35c461c-734a-4566-ded7-aa7779d06ee3"
      },
      "execution_count": 2,
      "outputs": [
        {
          "output_type": "stream",
          "name": "stdout",
          "text": [
            "Lista ordenada de los elementos: [2, 3, 5, 6, 8, 9, 34, 147, 718]\n",
            "CPU times: user 3 µs, sys: 0 ns, total: 3 µs\n",
            "Wall time: 6.91 µs\n"
          ]
        }
      ]
    },
    {
      "cell_type": "markdown",
      "source": [
        "#PROBLEMA 7"
      ],
      "metadata": {
        "id": "47Rg4IO_R_vc"
      }
    },
    {
      "cell_type": "markdown",
      "source": [
        "CÓDIGO"
      ],
      "metadata": {
        "id": "suV_x7wlSCuD"
      }
    },
    {
      "cell_type": "code",
      "source": [
        "def buscar_kesimo_elemento(arr, k):\n",
        "    inicio, fin = 0, len(arr) - 1\n",
        "\n",
        "    while inicio <= fin:\n",
        "        medio = (inicio + fin) // 2\n",
        "\n",
        "        if arr[medio] == k:\n",
        "            return medio\n",
        "\n",
        "        # Caso 1: La mitad izquierda está ordenada\n",
        "        if arr[inicio] <= arr[medio]:\n",
        "            if arr[inicio] <= k <= arr[medio]:\n",
        "                fin = medio - 1\n",
        "            else:\n",
        "                inicio = medio + 1\n",
        "        # Caso 2: La mitad derecha está ordenada\n",
        "        else:\n",
        "            if arr[medio] <= k <= arr[fin]:\n",
        "                inicio = medio + 1\n",
        "            else:\n",
        "                fin = medio - 1\n",
        "\n",
        "    return -1  # Si no se encuentra el elemento\n",
        "\n",
        "# Ejemplo de uso:\n",
        "arreglo_rotado = [15, 16, 19, 20, 25, 1, 3, 4, 5, 7, 10, 14]\n",
        "#arreglo_rotado = [1, 3, 4, 5, 7, 10, 14, 15, 16, 19, 20, 25]\n",
        "k = 5\n",
        "resultado = buscar_kesimo_elemento(arreglo_rotado, k)\n",
        "\n",
        "if resultado != -1:\n",
        "    print(f\"El {k}-ésimo elemento es: {arreglo_rotado[resultado]}\")\n",
        "else:\n",
        "    print(\"Elemento no encontrado en el arreglo.\")\n",
        "\n",
        "%time"
      ],
      "metadata": {
        "colab": {
          "base_uri": "https://localhost:8080/"
        },
        "id": "fu9prfaHSEvr",
        "outputId": "2004f792-ecf9-4bc8-d7ba-56fcba338a01"
      },
      "execution_count": 3,
      "outputs": [
        {
          "output_type": "stream",
          "name": "stdout",
          "text": [
            "El 5-ésimo elemento es: 5\n",
            "CPU times: user 4 µs, sys: 0 ns, total: 4 µs\n",
            "Wall time: 7.15 µs\n"
          ]
        }
      ]
    },
    {
      "cell_type": "markdown",
      "source": [
        "#PROBLEMA 8"
      ],
      "metadata": {
        "id": "7Z8qSZkgSMJa"
      }
    },
    {
      "cell_type": "markdown",
      "source": [
        "CÓDIGO"
      ],
      "metadata": {
        "id": "mAuG3FcKSPHA"
      }
    },
    {
      "cell_type": "code",
      "source": [
        "def encontrar_duplicado_y_faltante(arr):\n",
        "    n = len(arr)\n",
        "\n",
        "    # Encontrar el duplicado\n",
        "    duplicado = -1\n",
        "    for num in arr:\n",
        "        indice_actual = abs(num) - 1\n",
        "        if arr[indice_actual] < 0:\n",
        "            duplicado = abs(num)\n",
        "        else:\n",
        "            arr[indice_actual] = -arr[indice_actual]\n",
        "\n",
        "    # Encontrar el faltante\n",
        "    faltante = -1\n",
        "    for i, num in enumerate(arr):\n",
        "        if num > 0:\n",
        "            faltante = i + 1\n",
        "\n",
        "    return duplicado, faltante\n",
        "\n",
        "# Ejemplo de uso:\n",
        "arreglo = [3, 1, 3, 4, 2, 6,7,5,9]\n",
        "duplicado, faltante = encontrar_duplicado_y_faltante(arreglo)\n",
        "\n",
        "print(f\"El número duplicado es: {duplicado}\")\n",
        "print(f\"El número faltante es: {faltante}\")\n",
        "\n",
        "%time"
      ],
      "metadata": {
        "colab": {
          "base_uri": "https://localhost:8080/"
        },
        "id": "XhJAiUlySQhX",
        "outputId": "af7f3840-8c46-4463-cb09-787f7e86ebcb"
      },
      "execution_count": 4,
      "outputs": [
        {
          "output_type": "stream",
          "name": "stdout",
          "text": [
            "El número duplicado es: 3\n",
            "El número faltante es: 8\n",
            "CPU times: user 3 µs, sys: 1 µs, total: 4 µs\n",
            "Wall time: 7.39 µs\n"
          ]
        }
      ]
    },
    {
      "cell_type": "markdown",
      "source": [
        "#PROBLEMA 10"
      ],
      "metadata": {
        "id": "wKcNUi68SdHQ"
      }
    },
    {
      "cell_type": "markdown",
      "source": [
        "CÓDIGO"
      ],
      "metadata": {
        "id": "JAIX-4R0Slnu"
      }
    },
    {
      "cell_type": "code",
      "source": [
        "class BinaryIndexedTree:\n",
        "    def __init__(self, n):\n",
        "        self.n = n\n",
        "        self.bit = [0] * (n + 1)\n",
        "\n",
        "    def add(self, i, y):\n",
        "        i += 1  # Ajuste de índice 0-based a 1-based\n",
        "        while i <= self.n:\n",
        "            self.bit[i] += y\n",
        "            i += i & -i\n",
        "\n",
        "    def partial_sum(self, i):\n",
        "        i += 1  # Ajuste de índice 0-based a 1-based\n",
        "        result = 0\n",
        "        while i > 0:\n",
        "            result += self.bit[i]\n",
        "            i -= i & -i\n",
        "        return result\n",
        "\n",
        "# Ejemplo de uso:\n",
        "n = 10\n",
        "A = [0] * n  # Inicializar el arreglo con ceros\n",
        "bit_tree = BinaryIndexedTree(n)\n",
        "\n",
        "# Realizar operaciones\n",
        "bit_tree.add(2, 5)\n",
        "bit_tree.add(5, 3)\n",
        "bit_tree.add(7, 8)\n",
        "\n",
        "print(\"Partial Sum(3):\", bit_tree.partial_sum(3))\n",
        "print(\"Partial Sum(6):\", bit_tree.partial_sum(6))\n",
        "\n",
        "%time"
      ],
      "metadata": {
        "colab": {
          "base_uri": "https://localhost:8080/"
        },
        "id": "VrPediHbSijF",
        "outputId": "a927dff3-4411-438b-d91a-38e186ac0e92"
      },
      "execution_count": 5,
      "outputs": [
        {
          "output_type": "stream",
          "name": "stdout",
          "text": [
            "Partial Sum(3): 5\n",
            "Partial Sum(6): 8\n",
            "CPU times: user 4 µs, sys: 0 ns, total: 4 µs\n",
            "Wall time: 7.39 µs\n"
          ]
        }
      ]
    }
  ]
}